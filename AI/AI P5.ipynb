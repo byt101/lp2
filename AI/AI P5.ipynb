{
 "cells": [
  {
   "cell_type": "code",
   "execution_count": 1,
   "id": "f4694150",
   "metadata": {},
   "outputs": [
    {
     "name": "stdout",
     "output_type": "stream",
     "text": [
      "Chatbot: Hi! Welcome to our online store. How can I assist you today?\n",
      "Chatbot: Welcome to our online store! How can I assist you?\n",
      "Chatbot: I'll assist you with the shipping status. What's your order number?\n",
      "Chatbot: I can help you with that. What's your order number?\n",
      "Chatbot: We offer a wide range of product categories, including shoes, shirts, and trousers.\n",
      "Chatbot: Sports shoes range from 900-5,000\n",
      "Sneakers range: 1,000-4,000\n",
      "Chatbot: Puma\n",
      "Nike\n",
      "Adidas\n",
      "Chatbot: You're welcome!\n",
      "Chatbot: Thank you for visiting our store. Have a great day!\n"
     ]
    }
   ],
   "source": [
    "import random\n",
    "\n",
    "# Dictionary of predefined responses\n",
    "responses = {\n",
    "    \"greeting\": [\"Hello!\", \"Hi!\", \"Welcome to our online store! How can I assist you?\"],\n",
    "    \"farewell\": [\"Thank you for visiting our store. Have a great day!\", \"Goodbye! Come back soon!\"],\n",
    "    \"thanks\": [\"You're welcome!\", \"No problem!\", \"Glad to help!\"],\n",
    "    \"product_inquiry\": [\"Sure, let me check that for you.\", \"Certainly! I'll find the information about that product.\"],\n",
    "    \"order_status\": [\"Please provide your order number, and I'll check its status.\", \"I can help you with that. What's your order number?\"],\n",
    "    \"shipping_status\": [\"To track your order, please provide your order number.\", \"I'll assist you with the shipping status. What's your order number?\"],\n",
    "    \"product_category\": [\"We offer a wide range of product categories, including shoes, shirts, and trousers.\", \"Our store has products in different categories such as shoes, shirts, and trousers.\"],\n",
    "    \"shoes_range\": [\"Sports shoes range from 900-5,000\\nSneakers range: 1,000-4,000\"],\n",
    "    \"shoes_brand\": [\"Puma\\nNike\\nAdidas\"],\n",
    "    \"trouser_range\": [\"Chinos: 1,200-3,000\\nFormals: 1,500-4,000\"],\n",
    "    \"shirt_range\": [\"Formals: 2,000-5,000\\nParty Wear: 1,000-4,000\"],\n",
    "    \"default\": [\"I'm sorry, I didn't understand. Could you please rephrase that?\", \"I'm still learning. Can you provide more details?\"]\n",
    "}\n",
    "\n",
    "# Function to generate a response based on user input\n",
    "def generate_response(user_input):\n",
    "    user_input = user_input.lower()\n",
    "    if \"hello\" in user_input or user_input == \"hi\":\n",
    "        return random.choice(responses[\"greeting\"])\n",
    "    elif \"bye\" in user_input or \"goodbye\" in user_input:\n",
    "        return random.choice(responses[\"farewell\"])\n",
    "    elif \"thank\" in user_input:\n",
    "        return random.choice(responses[\"thanks\"])\n",
    "    elif \"shipping\" in user_input:\n",
    "        return random.choice(responses[\"shipping_status\"])\n",
    "    elif \"order\" in user_input:\n",
    "        return random.choice(responses[\"order_status\"])\n",
    "    elif \"product\" in user_input or \"category\" in user_input:\n",
    "        return random.choice(responses[\"product_category\"])\n",
    "    elif \"shoes\" in user_input:\n",
    "        return random.choice(responses[\"shoes_range\"])\n",
    "    elif \"brands\" in user_input or \"shoe brand\" in user_input:\n",
    "        return random.choice(responses[\"shoes_brand\"])\n",
    "    elif \"trouser\" in user_input:\n",
    "        return random.choice(responses[\"trouser_range\"])\n",
    "    elif \"shirt\" in user_input:\n",
    "        return random.choice(responses[\"shirt_range\"])\n",
    "    elif \"how are you\" in user_input:\n",
    "        return \"I'm doing great, thanks for asking! How can I assist you today?\"\n",
    "    elif \"phone\" in user_input:\n",
    "        return \"Which brand of phone are you interested in?\"\n",
    "    elif \"apple\" in user_input:\n",
    "        return \"Great choice! What is your budget?\"\n",
    "    elif \"100000\" in user_input:\n",
    "        return \"Perfect! We have some great Apple models in that range.\"\n",
    "    else:\n",
    "        return random.choice(responses[\"default\"])\n",
    "\n",
    "# Chatbot interaction loop\n",
    "def chatbot():\n",
    "    print(\"Chatbot: Hi! Welcome to our online store. How can I assist you today?\")\n",
    "    while True:\n",
    "        user_input = input(\"You: \")\n",
    "        response = generate_response(user_input)\n",
    "        print(\"Chatbot:\", response)\n",
    "        if response in responses[\"farewell\"]:\n",
    "            break\n",
    "\n",
    "chatbot()\n"
   ]
  }
 ],
 "metadata": {
  "kernelspec": {
   "display_name": "Python 3",
   "language": "python",
   "name": "python3"
  },
  "language_info": {
   "codemirror_mode": {
    "name": "ipython",
    "version": 3
   },
   "file_extension": ".py",
   "mimetype": "text/x-python",
   "name": "python",
   "nbconvert_exporter": "python",
   "pygments_lexer": "ipython3",
   "version": "3.11.5"
  }
 },
 "nbformat": 4,
 "nbformat_minor": 5
}
